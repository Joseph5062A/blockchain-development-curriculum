{
 "cells": [
  {
   "cell_type": "markdown",
   "id": "7ac95a05",
   "metadata": {},
   "source": [
    "# Hashing Exercise - Blockchain Independent Study\n",
    "---\n",
    "In this exercise we'll be taking an in depth view at the properties surrounding an essential component of the blocks that make up a blockchain, the hash function. Hashes are the linking factor between each of the blocks on a blockchain, therefore, in order to fully comprehend the advantages associated with using blockchains, it's crutial to understand how this mechanism works within them. <br/>\n",
    "\n",
    "A hashing function is a mathematical algorithm that maps data of arbitrary size to a hash of a fixed size. In other words, it creates a unique digital fingerprint for any data that's passed into it. While many types of hashing functions exist, many, such as SHA-1 and MD-5, have been deprecated as security vulnerablities have been found in them. While different types of hashing functions differ from eachother in how they internally work and their output sizes; in order to constitute as a hashing function, an algorithm must adhere to these five general hashing requirements:\n",
    "* One-Way\n",
    "* Deterministic\n",
    "* Fast Computation\n",
    "* Avalanche Effect\n",
    "* Collision Resistant\n",
    "\n",
    "One hashing algorithm which has yet to see a major security exploit found against it is SHA-256. This is the hashing function used in the mining and linking of blocks on the Bitcoin blockchain. The SHA-256 hashing algorithm is quite cryptographically complex, so implementing it from scratch would be outside the scope of the this exercise's learning outcomes. Therefore, a version of it from python's default hashing module, hashlib, will be used instead. The following cell imports the hashing algorithm."
   ]
  },
  {
   "cell_type": "code",
   "execution_count": 1,
   "id": "e0e17694",
   "metadata": {},
   "outputs": [],
   "source": [
    "import hashlib\n",
    "\n",
    "def sha256(input_txt):\n",
    "    \"\"\"\n",
    "    Wrapper function for hashlib's sha256 function.\n",
    "\n",
    "    :param input_txt: Inputted data used to generate a hash.\n",
    "    :return: The sha256 hash of the inputted data.\n",
    "    \"\"\"\n",
    "    return hashlib.sha256(str(input_txt).encode('utf-8')).hexdigest()"
   ]
  },
  {
   "cell_type": "markdown",
   "id": "c3196ed5",
   "metadata": {},
   "source": [
    "As mentioned before, hashing functions take in data of arbitrary size, and creates a (seamingly) random output of fixed length. To demonstrate this feature of fixed size reduction of arbitrary data, in the following cell:\n",
    "* Create two different strings of varying length\n",
    "* Run them through the sha256 hashing method created in the previous cell and save their outputs (hashes)\n",
    "* Print both of these hashes to get an idea of what they look like\n",
    "* Compare whether their hashes are the same size"
   ]
  },
  {
   "cell_type": "code",
   "execution_count": 2,
   "id": "7361bbc3",
   "metadata": {},
   "outputs": [
    {
     "name": "stdout",
     "output_type": "stream",
     "text": [
      "f7ef53d21502321eaecb78bb405b7ff266253b4a27d89b9b8c4da5847cdd1b9d\n",
      "b5d4045c3f466fa91fe2cc6abe79232a1a57cdf104f7a26e716e0a1e2789df78\n",
      "Hash lengths are equal\n"
     ]
    }
   ],
   "source": [
    "# a = \"test 123\"\n",
    "# b = \"ABC\"\n",
    "# h1 = sha256(a)\n",
    "# h2 = sha256(b)\n",
    "# print(h1)\n",
    "# print(h2)\n",
    "# if (len(h1) == len(h2)):\n",
    "#     print(\"Hash lengths are equal\")"
   ]
  },
  {
   "cell_type": "markdown",
   "id": "4aa0bc64",
   "metadata": {},
   "source": [
    "The first of the general hashing requirements is that an algorithm must be one-way, this means that it’s not possible to reverse engineer the input data from the resulting hash. Both inputs used to generate both of the hashes in the previous cell are not recoverable.<br/>\n",
    "\n",
    "To demonstrate the deterministic and computationally efficient hashing requirements, do the following the next cell:\n",
    "* Determine an arbitrary string and save it to a variable\n",
    "* Benchmark the sha256 algorithm on said string (using the %timeit magic command)\n",
    "* Run the sha256 algorthm on the string and save the output (hash) to a variable\n",
    "* Run the sha256 algorithm once again on the string and save its hash to a different variable\n",
    "* Compare these hashes to determine if the same \"random\" hash is generated twice when running sha256 twice on the same input"
   ]
  },
  {
   "cell_type": "code",
   "execution_count": 3,
   "id": "95bb43ad",
   "metadata": {},
   "outputs": [
    {
     "name": "stdout",
     "output_type": "stream",
     "text": [
      "5.4 µs ± 161 ns per loop (mean ± std. dev. of 7 runs, 100000 loops each)\n",
      "Hashes are equal\n"
     ]
    }
   ],
   "source": [
    "# c = \"This is an arbitrary test string!\"\n",
    "# %timeit sha256(c)\n",
    "# h3 = sha256(c)\n",
    "# h4 = sha256(c)\n",
    "# if (h3 == h4):\n",
    "#     print(\"Hashes are equal\")"
   ]
  },
  {
   "cell_type": "markdown",
   "id": "882fb450",
   "metadata": {},
   "source": [
    "A hashing function being deterministic means that when it's applied multiple times on the same input data, the resulting hash will always be the same. This aspect of hashing algorithms as well as the computationall efficency were both displayed in the previous cell. <br/>\n",
    "\n",
    "Next, to demonstrate the avalanche effect hashing requirement, do the following in the next cell:\n",
    "* Print out the hash of the string created in the previous cell\n",
    "* Add, change or remove just one character from the string\n",
    "* Run the hashing algorithm on the new string and print the result"
   ]
  },
  {
   "cell_type": "code",
   "execution_count": 4,
   "id": "aa40e7da",
   "metadata": {},
   "outputs": [
    {
     "name": "stdout",
     "output_type": "stream",
     "text": [
      "78b65860b4dd9c0cf393557d5671f11317355ea0d693a0ac10180059e17d9d01\n",
      "0f593dc3ea473472713f4d50dd401c5282c5a04eb9689d1af6f841020de3d3c1\n"
     ]
    }
   ],
   "source": [
    "# print(h4)\n",
    "# c = \"This is an arbitrary test string?\"\n",
    "# print(sha256(c))"
   ]
  },
  {
   "cell_type": "markdown",
   "id": "b4dc4904",
   "metadata": {},
   "source": [
    "The 'avalanche' in avalance effect refers to the fact that even slight changes to the input data for the hashing function trigger other changes in the algorithm, which in turn trigger more changes, etc. This eventually leads to significantly different resulting hashes for even minor input changes.<br/>\n",
    "\n",
    "The final general hashing requirement is the ability to withstant collisions. To see this property in action, do the following in the next cell:\n",
    "* Create a while true loop containing the following code segments\n",
    "* Create a random string of a random length between 5 and 15 characters\n",
    "* Generate a hash for that string\n",
    "* Contrast that hash to the hash generated in the previous cell\n",
    " * If they don't collide (are different), do nothing\n",
    " * If they do collide, break out of the while loop and immediately head to the nearest gas station to buy a lottery ticket"
   ]
  },
  {
   "cell_type": "code",
   "execution_count": null,
   "id": "6039b9a9",
   "metadata": {},
   "outputs": [],
   "source": [
    "# import random\n",
    "# import string\n",
    "# letters = string.ascii_letters\n",
    "# while(True):\n",
    "#     s = ''.join(random.choice(letters) for i in range(random.randint(5, 15)))\n",
    "#     h5 = sha256(s)\n",
    "#     if (h4 == h5):\n",
    "#         break"
   ]
  },
  {
   "cell_type": "markdown",
   "id": "cb79cd03",
   "metadata": {},
   "source": [
    "A hash function's being able to withstand collisions means that there isn't any way which malicious actors are able to generate data which, when passed through the algorithm, will produce a matching hash of the hash of other known input data. There's no need to continue running the while loop created above, as it will theoretically never end. The probability of finding a collision with the SHA-256 is very, very, very, very<sup>very</sup> low. To put in to perspective how low the probablity is, in the history of SHA-256 existence, a collision has never been found, in fact, it was calculated that if all of the computational resources for mining bitcoin were combined (currently 171.86 EH/s) in an attempt to find a SHA-256 collision, it would take 3.6 * 10<sup>13</sup> years, or approximately 2,600 lifespans of the universe."
   ]
  }
 ],
 "metadata": {
  "kernelspec": {
   "display_name": "Python 3 (ipykernel)",
   "language": "python",
   "name": "python3"
  },
  "language_info": {
   "codemirror_mode": {
    "name": "ipython",
    "version": 3
   },
   "file_extension": ".py",
   "mimetype": "text/x-python",
   "name": "python",
   "nbconvert_exporter": "python",
   "pygments_lexer": "ipython3",
   "version": "3.8.8"
  }
 },
 "nbformat": 4,
 "nbformat_minor": 5
}
