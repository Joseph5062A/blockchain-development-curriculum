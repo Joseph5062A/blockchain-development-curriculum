{
 "cells": [
  {
   "cell_type": "markdown",
   "id": "2c7db601",
   "metadata": {},
   "source": [
    "# Cryptocurrency From Scratch Exercise - Blockchain Independent Study\n",
    "---\n",
    "In this exercise we'll be creating a cryptocurrency by breaking it apart into its most fundamental components. One of these components, the hashing function, was explored in the previous exercise. The rest of the concepts and components have been covered in the course's lectures and will be discussed throughout the notebook. The following cell imports a few default libraries which will be used throughout this exercise."
   ]
  },
  {
   "cell_type": "code",
   "execution_count": 1,
   "id": "f00883be",
   "metadata": {},
   "outputs": [],
   "source": [
    "import time\n",
    "import hashlib\n",
    "import json\n",
    "import copy"
   ]
  },
  {
   "cell_type": "markdown",
   "id": "d6ac0936",
   "metadata": {},
   "source": [
    "### Part 1 - Creating The Blockchain\n",
    "For this exercise, we'll focus on keeping everything on the simpler side of things. As previously shown in lecture, the atomic element which blockchains are traditionally made of are objects called blocks, so this will be the first element which will be created. In the following cell, create a block class which initializes the following attributes:\n",
    "* Index\n",
    "* Timestamp\n",
    "* Previous-Hash\n",
    "* Transactions\n",
    "* Nonce\n",
    "\n",
    "After the initialization function of the cell has been created. Add the following function to the block class. When called, this code will use the sha256 hashing algorithm to create a hash of the blocks contents.\n",
    "\n",
    "```def compute_hash(self):\n",
    "        attributes = copy.copy(self.__dict__)\n",
    "        if 'hash' in attributes: # Ensuring that the block's hash isn't used when it's re-hashed\n",
    "            attributes.pop('hash')\n",
    "        block_string = json.dumps(attributes, sort_keys=True)\n",
    "        return hashlib.sha256(block_string.encode()).hexdigest()```"
   ]
  },
  {
   "cell_type": "code",
   "execution_count": 2,
   "id": "582eb3b5",
   "metadata": {},
   "outputs": [],
   "source": [
    "class Block:\n",
    "    def __init__(self, # TODO - Add specified parameters):\n",
    "        # TODO - Initialize specified parameters\n",
    "    \n",
    "#     def __init__(self, index, timestamp, previous_hash, transactions, nonce):\n",
    "#         self.index = index\n",
    "#         self.timestamp = timestamp\n",
    "#         self.previous_hash = previous_hash\n",
    "#         self.transactions = transactions\n",
    "#         self.nonce = nonce\n",
    "\n",
    "#     def compute_hash(self):\n",
    "#         attributes = copy.copy(self.__dict__)\n",
    "#         if 'hash' in attributes: # Ensuring that the block's hash isn't used when it's re-hashed\n",
    "#             attributes.pop('hash')\n",
    "#         block_string = json.dumps(attributes, sort_keys=True)\n",
    "#         return hashlib.sha256(block_string.encode()).hexdigest()"
   ]
  },
  {
   "cell_type": "markdown",
   "id": "91c95d18",
   "metadata": {},
   "source": [
    "Now that we have a class for blocks, we want to create an architechture for these blocks to be chained together. To do this, we'll create the essential functions which are required for a blockchain in the next few cells. This could also be done in a 'Blockchain' class, but for the sake of this exercise having more clarity, it will be done using just functions. <br/>\n",
    "\n",
    "The first objects which must be declared are an two empty lists. The first of which will be called 'unconfirmed_transactions', and will be used to store transactions which are yet to occur. In larger scale blockchains such as Bitcoin and Ethereum, mempools are used in place of this list. Whenever a user wants to transact on those blockchains, they will add their transaction to the mempool and wait for it to be appeneded to a block. With our blockchain a user will just append their transaction to unconfirmed transaction list. The second empty list will be called 'chain'. This list will be the platform that keeps track of all blocks in the blockchain. <br/>\n",
    "\n",
    "Finally, the first block in the blockchain, which is called the 'genisis block' should be created. All other blocks will stem from this block. Create a block object with the following parameters, calculate its hash (asigning it to the block's .hash property), and append the block to the chain:\n",
    "* Index -> 0\n",
    "* Timestamp -> time.time()\n",
    "* Previous-Hash -> \"0\"\n",
    "* Transactions -> []\n",
    "* Nonce -> 0"
   ]
  },
  {
   "cell_type": "code",
   "execution_count": 3,
   "id": "b8a0ed4f",
   "metadata": {},
   "outputs": [],
   "source": [
    "# unconfirmed_transactions = []\n",
    "# chain = []\n",
    "# genesis_block = Block(0, time.time(), \"0\", [], 0)\n",
    "# genesis_block.hash = genesis_block.compute_hash()\n",
    "# chain.append(genesis_block)"
   ]
  },
  {
   "cell_type": "markdown",
   "id": "a15b3ff5",
   "metadata": {},
   "source": [
    "Next we'll create the consensus mechanism for the blockchain. The mechanism which we'll choose is proof-of-work. As mentioned in lecture, this system prevents modifications of blocks which have already been appended to the blockchain. The difficulty of the consensus mechanism will be how many leading zeros the block hashes have, and will be manually adjustable. With every additonal zero in the difficulty, the work required to mine a block increases exponentially. The difficulty will be assigned to a variable called 'difficulty'. It will start at 4 leading zeros and will be manually adjustable. <br/>\n",
    "\n",
    "In the following cell, complete the consensus mechanism function by implementing proof-of-work. This can be done by continuously doing the following steps in a while loop:\n",
    "* Compute the hash of the block\n",
    "* Check if the hash has the desired amount of leading zeros\n",
    " * If not, increase the nonce of the block and continue looping\n",
    " * Otherwise, return the computed hash and exit the loop"
   ]
  },
  {
   "cell_type": "code",
   "execution_count": 4,
   "id": "757d9f11",
   "metadata": {},
   "outputs": [],
   "source": [
    "difficulty = 4\n",
    "def consensus(block):\n",
    "    # TODO - Implement proof-of-work function\n",
    "    \n",
    "#     computed_hash = block.compute_hash()\n",
    "#     while not computed_hash.startswith('0' * difficulty):\n",
    "#         block.nonce += 1\n",
    "#         computed_hash = block.compute_hash()\n",
    "#     return computed_hash"
   ]
  },
  {
   "cell_type": "markdown",
   "id": "a1e02cbe",
   "metadata": {},
   "source": [
    "Now that the consensus mechanism has been implemented, a few more methods are needed before to construct and verify the integrity of the chain. A few of these methods have been created for you in the follwing cell. First, a method has been created to confirm the validity of a blocks hash. Next, there's a method which will append new transactions to the 'mempool' (unconfirmed_transactions list). Finally, a method which validates the difficulty and appends the block to the chain upon confirmation has been created. Observe these methods to ensure that you understand their functionality."
   ]
  },
  {
   "cell_type": "code",
   "execution_count": 5,
   "id": "33dacde5",
   "metadata": {},
   "outputs": [],
   "source": [
    "def is_valid_hash(block, block_hash):\n",
    "    return (block_hash.startswith('0' * difficulty) and block_hash == block.compute_hash())\n",
    "\n",
    "def add_new_transaction(transaction):\n",
    "    unconfirmed_transactions.append(transaction)\n",
    "    \n",
    "def add_block(block, block_hash):\n",
    "    previous_hash = chain[-1].hash\n",
    "    if previous_hash != block.previous_hash:\n",
    "        return \"Warning: The previous hash of the given block doesn't match the hash of the previous block.\"\n",
    "    if not is_valid_hash(block, block_hash):\n",
    "        return \"Warning: The hash of the given block is not valid.\"\n",
    "    block.hash = block_hash\n",
    "    chain.append(block)\n",
    "    if block.transactions:\n",
    "        ret_str = \"\"\n",
    "        for t in block.transactions:\n",
    "            ret_str += json.dumps(t) + \"\\n\"\n",
    "        return f\"A block with the following transactions has been succesfully added to the blockchain:\\n{ret_str}\"\n",
    "    else:\n",
    "        return \"A block has been succesfully added to the blockchain.\""
   ]
  },
  {
   "cell_type": "markdown",
   "id": "fe507027",
   "metadata": {},
   "source": [
    "In the following cell, we will create a new method called 'mine', which will be used to mine new blocks. When called this method will perform the following:\n",
    "* Retrieve the last mined block on the blockchain (at first this will be the genesis block)\n",
    "* Create a new block object with the following parmeters\n",
    " * Index -> The last mined block's index plus one\n",
    " * Timestamp -> The current time (time.time())\n",
    " * Transactions -> The unconfirmed transaction list\n",
    " * Previous-Hash -> The hash of the last mined block\n",
    " * Nonce -> 0\n",
    "* Determine the block's hash by using the consensus method\n",
    "* Use the add_block method to append the block to the chain\n",
    "* Clear the mempool by emptying the unconfirmed transaction list"
   ]
  },
  {
   "cell_type": "code",
   "execution_count": 6,
   "id": "bc8d66c0",
   "metadata": {},
   "outputs": [],
   "source": [
    "def mine():\n",
    "    global unconfirmed_transactions # Necessary to avoid scope issue \n",
    "    \n",
    "    # TODO - Implement Mining Function\n",
    "    \n",
    "#     last_block = chain[-1]\n",
    "#     new_block = Block(index = last_block.index + 1,\n",
    "#                       timestamp = time.time(),\n",
    "#                       previous_hash = last_block.hash,\n",
    "#                       transactions = unconfirmed_transactions,\n",
    "#                       nonce = 0)\n",
    "#     block_hash = consensus(new_block)\n",
    "#     print(add_block(new_block, block_hash))\n",
    "#     unconfirmed_transactions = []"
   ]
  },
  {
   "cell_type": "markdown",
   "id": "6762a757",
   "metadata": {},
   "source": [
    "Lastly, we need to create a method which can validate the integrity of the entire blockchain by iterating through it. This method will do the following:\n",
    "* Store the genesis block as 'previous_block', and store the current block index, starting at 1\n",
    "* Use a loop to iterate through the chain, for each iteration:\n",
    " * Retrieve the block at the current index\n",
    " * Validate that the current block's previous hash attribute matches the previous block's hash\n",
    " * Validate current block's hash by re-hashing the block and using the is_valid_hash function\n",
    " * Set the previous block to be the current block and increment the block index by 1"
   ]
  },
  {
   "cell_type": "code",
   "execution_count": 7,
   "id": "d80afc7f",
   "metadata": {},
   "outputs": [],
   "source": [
    "def validate_chain():\n",
    "    # TODO - Implement chain validator\n",
    "    \n",
    "#     previous_block = chain[0]\n",
    "#     block_index = 1\n",
    "#     while block_index < len(chain):\n",
    "#         block = chain[block_index]\n",
    "#         if block.previous_hash != previous_block.compute_hash():\n",
    "#             return \"Warning: Mismatching block hashes are detected.\"\n",
    "#         block_hash = block.compute_hash()\n",
    "#         if not is_valid_hash(block, block_hash):\n",
    "#             return \"Warning: Current block hash is invalid.\"\n",
    "#         previous_block = block\n",
    "#         block_index += 1\n",
    "#     return \"Blockchain is valid.\""
   ]
  },
  {
   "cell_type": "markdown",
   "id": "52bea94b",
   "metadata": {},
   "source": [
    "### Part 2 - Interacting With The Blockchain"
   ]
  },
  {
   "cell_type": "markdown",
   "id": "bfb5f04b",
   "metadata": {},
   "source": [
    "Now that all of the components of our blockchain have been created, we can begin to interact with it through its functions. In the following cells, we'll check the functionality of the methods we just created. We'll begin by adding a few transactions to the mempool using add_new_transaction. This method will take transactions in any format, but for to be consistent, we'll use json form (aka, a dictionary). Create at least two new transactions using the following format:\n",
    "* {\"Sender\" : \"X\", \"Reciever\" : \"Y\", \"Amount\" : XX.XX}"
   ]
  },
  {
   "cell_type": "code",
   "execution_count": 8,
   "id": "e7b596cb",
   "metadata": {},
   "outputs": [],
   "source": [
    "# add_new_transaction({\"Sender\" : \"Alice\", \"Reciever\" : \"Bob\", \"Amount\" : 20.22})\n",
    "# add_new_transaction({\"Sender\" : \"George\", \"Reciever\" : \"Paul\", \"Amount\" : 16.67})"
   ]
  },
  {
   "cell_type": "markdown",
   "id": "5d64fa1a",
   "metadata": {},
   "source": [
    "Now that these transactions have been 'created by the users' of this blockchain, it's time to add them on to the chain. To do this, they'll need to be in a block, and that block will have to be mined. All of this functionality should be encompased within the mine method. Try calling the mine method twice in the following cell (once with and once without transactions)."
   ]
  },
  {
   "cell_type": "code",
   "execution_count": 9,
   "id": "c4c0a1d2",
   "metadata": {},
   "outputs": [
    {
     "name": "stdout",
     "output_type": "stream",
     "text": [
      "A block with the following transactions has been succesfully added to the blockchain:\n",
      "{\"Sender\": \"Alice\", \"Reciever\": \"Bob\", \"Amount\": 20.22}\n",
      "{\"Sender\": \"George\", \"Reciever\": \"Paul\", \"Amount\": 16.67}\n",
      "\n",
      "A block has been succesfully added to the blockchain.\n"
     ]
    }
   ],
   "source": [
    "# mine() # With transactions\n",
    "# mine() # Without transactions"
   ]
  },
  {
   "cell_type": "markdown",
   "id": "dc55b58e",
   "metadata": {},
   "source": [
    "Lastly we'll explore the validate_chain method. In the next cell we'll first call it right away to see if the chain that was just created is valid. After this, we'll run the following code which will maliciously edit the blockchain: <br/>\n",
    "\n",
    "```chain[1].transactions[0][\"Reciever\"] = \"Dr. Doofenshmirtz\"```\n",
    "\n",
    "After this modification to the blockchain, call the validate_chain method once again to see if the validity of the chain was comprimised."
   ]
  },
  {
   "cell_type": "code",
   "execution_count": 10,
   "id": "1e38484f",
   "metadata": {},
   "outputs": [
    {
     "name": "stdout",
     "output_type": "stream",
     "text": [
      "Blockchain is valid.\n",
      "Warning: Current block hash is invalid.\n"
     ]
    }
   ],
   "source": [
    "# print(validate_chain())\n",
    "# chain[1].transactions[0][\"Reciever\"] = \"Dr. Doofenshmirtz\"\n",
    "# print(validate_chain())"
   ]
  },
  {
   "cell_type": "markdown",
   "id": "874e6b9e",
   "metadata": {},
   "source": [
    "If everything is working correctly, an error will occur the second time the validate_chain function is called, meaning that the blockchain properly detected the maliciously made change."
   ]
  }
 ],
 "metadata": {
  "kernelspec": {
   "display_name": "Python 3 (ipykernel)",
   "language": "python",
   "name": "python3"
  },
  "language_info": {
   "codemirror_mode": {
    "name": "ipython",
    "version": 3
   },
   "file_extension": ".py",
   "mimetype": "text/x-python",
   "name": "python",
   "nbconvert_exporter": "python",
   "pygments_lexer": "ipython3",
   "version": "3.8.8"
  }
 },
 "nbformat": 4,
 "nbformat_minor": 5
}
